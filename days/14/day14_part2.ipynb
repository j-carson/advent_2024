{
 "cells": [
  {
   "cell_type": "code",
   "execution_count": 1,
   "id": "8d352a54-9409-4410-8674-5a4fa7d45df9",
   "metadata": {},
   "outputs": [],
   "source": [
    "import matplotlib.pyplot as plt\n",
    "\n",
    "%matplotlib inline\n",
    "\n",
    "from pathlib import Path\n",
    "\n",
    "import numpy as np\n",
    "from parse import parse"
   ]
  },
  {
   "cell_type": "code",
   "execution_count": 2,
   "id": "6328de82-743e-467d-8043-e346b1d871f0",
   "metadata": {},
   "outputs": [],
   "source": [
    "class Robot:\n",
    "    def __init__(self, px, py, vx, vy):\n",
    "        self.start_pos = (px, py)\n",
    "        self.velocity = (vx, vy)\n",
    "\n",
    "    def step(self, grid_width, grid_height, time):\n",
    "        x = self.start_pos[0] + self.velocity[0] * time\n",
    "        y = self.start_pos[1] + self.velocity[1] * time\n",
    "        return (x % grid_width, y % grid_height)"
   ]
  },
  {
   "cell_type": "code",
   "execution_count": 3,
   "id": "b39eea37-dd53-4ad9-ab78-1d49142ab650",
   "metadata": {},
   "outputs": [],
   "source": [
    "class Puzzle:\n",
    "    def __init__(self, grid_width, grid_height):\n",
    "        self.grid_width = grid_width\n",
    "        self.grid_height = grid_height\n",
    "        self.robots = []\n",
    "\n",
    "    def load_robots(self, input_text):\n",
    "        for line in input_text.splitlines():\n",
    "            px, py, vx, vy = parse(\"p={:d},{:d} v={:d},{:d}\", line)\n",
    "            self.robots.append(Robot(px, py, vx, vy))\n",
    "\n",
    "    def get_view(self, time):\n",
    "        view = np.zeros((self.grid_width, self.grid_height), dtype=np.int8)\n",
    "        for r in self.robots:\n",
    "            pos = r.step(self.grid_width, self.grid_height, time)\n",
    "            view[pos] += 1\n",
    "        return view"
   ]
  },
  {
   "cell_type": "code",
   "execution_count": 4,
   "id": "d1719583-4d4b-480a-97ad-7af0c0a5aec5",
   "metadata": {},
   "outputs": [
    {
     "data": {
      "text/plain": [
       "<matplotlib.image.AxesImage at 0x10a601010>"
      ]
     },
     "execution_count": 4,
     "metadata": {},
     "output_type": "execute_result"
    },
    {
     "data": {
      "image/png": "[encoded data removed]",
      "text/plain": [
       "<Figure size 250x250 with 1 Axes>"
      ]
     },
     "metadata": {},
     "output_type": "display_data"
    }
   ],
   "source": [
    "my_input = Path(\"input.txt\").read_text().strip()\n",
    "puzzle = Puzzle(101, 103)\n",
    "puzzle.load_robots(my_input)\n",
    "view = puzzle.get_view(8087)  # from part2.py\n",
    "\n",
    "fig = plt.figure(figsize=(2.5, 2.5))\n",
    "ax = fig.gca()\n",
    "ax.imshow(view)"
   ]
  },
  {
   "cell_type": "code",
   "execution_count": 5,
   "id": "2c22a07d-c319-4797-b081-2c1c54ebdc62",
   "metadata": {},
   "outputs": [
    {
     "data": {
      "text/plain": [
       "<Figure size 640x480 with 0 Axes>"
      ]
     },
     "metadata": {},
     "output_type": "display_data"
    }
   ],
   "source": [
    "plt.savefig(\"tree.png\", bbox_inches=\"tight\")"
   ]
  },
  {
   "cell_type": "code",
   "execution_count": null,
   "id": "5af4a398-dcb7-4d9b-8b86-ce904add1c04",
   "metadata": {},
   "outputs": [],
   "source": []
  }
 ],
 "metadata": {
  "kernelspec": {
   "display_name": "aoc24",
   "language": "python",
   "name": "aoc24"
  },
  "language_info": {
   "codemirror_mode": {
    "name": "ipython",
    "version": 3
   },
   "file_extension": ".py",
   "mimetype": "text/x-python",
   "name": "python",
   "nbconvert_exporter": "python",
   "pygments_lexer": "ipython3",
   "version": "3.13.0"
  }
 },
 "nbformat": 4,
 "nbformat_minor": 5
}
